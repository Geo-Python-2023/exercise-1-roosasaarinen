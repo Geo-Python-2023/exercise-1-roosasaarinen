{
 "cells": [
  {
   "cell_type": "markdown",
   "id": "637e5d51-ecd2-4d23-837a-374c66fa8dee",
   "metadata": {
    "tags": []
   },
   "source": [
    "Problem 2 - Defining some numerical variables"
   ]
  },
  {
   "cell_type": "code",
   "execution_count": 3,
   "id": "49708f81-cce1-4b50-9a6c-bf69ab36fca1",
   "metadata": {
    "tags": []
   },
   "outputs": [],
   "source": [
    "ice_cream_rating=8"
   ]
  },
  {
   "cell_type": "code",
   "execution_count": 4,
   "id": "7100152c-d154-4a5a-8eb7-547ee3e34843",
   "metadata": {
    "tags": []
   },
   "outputs": [],
   "source": [
    "sleeping_rating=7"
   ]
  },
  {
   "cell_type": "markdown",
   "id": "ed05a934-0bec-409e-8e4e-3b4000edec37",
   "metadata": {
    "tags": []
   },
   "source": [
    "Problem 3 - Defining some character string variables"
   ]
  },
  {
   "cell_type": "code",
   "execution_count": 6,
   "id": "5cde61d7-c7a4-456b-b666-b4229afa9568",
   "metadata": {
    "tags": []
   },
   "outputs": [],
   "source": [
    "first_name=\"Roosa\""
   ]
  },
  {
   "cell_type": "code",
   "execution_count": 7,
   "id": "52073a40-b520-45f6-b246-1779977c380d",
   "metadata": {
    "tags": []
   },
   "outputs": [],
   "source": [
    "last_name=\"Saarinen\""
   ]
  },
  {
   "cell_type": "code",
   "execution_count": 8,
   "id": "e3f8a15d-302a-4f76-ba5f-34b8d52e88b6",
   "metadata": {
    "tags": []
   },
   "outputs": [],
   "source": [
    "my_name=\"Roosa Saarinen\""
   ]
  },
  {
   "cell_type": "markdown",
   "id": "dfaf2af3-5ad0-4caf-bf3a-a466f49e452a",
   "metadata": {
    "tags": []
   },
   "source": [
    "Problem 4 - A bit of math"
   ]
  },
  {
   "cell_type": "code",
   "execution_count": 14,
   "id": "9e6efda3-7d42-443c-8ff4-0015404be774",
   "metadata": {
    "tags": []
   },
   "outputs": [],
   "source": [
    "import math"
   ]
  },
  {
   "cell_type": "code",
   "execution_count": 18,
   "id": "3a424a9f-3359-4d68-8cd3-a669fb975141",
   "metadata": {
    "tags": []
   },
   "outputs": [
    {
     "name": "stdout",
     "output_type": "stream",
     "text": [
      "Avarage rating is 7.5\n"
     ]
    }
   ],
   "source": [
    "happiness_rating=(ice_cream_rating+sleeping_rating)/2\n",
    "print(\"Avarage rating is\", happiness_rating)"
   ]
  },
  {
   "cell_type": "markdown",
   "id": "5476b670-4948-479a-89a7-b41dda787aee",
   "metadata": {
    "tags": []
   },
   "source": [
    "Problem 5 - Checking data types"
   ]
  },
  {
   "cell_type": "code",
   "execution_count": 20,
   "id": "fafef0d5-66f5-4fff-a2f3-f3ba1e933777",
   "metadata": {
    "tags": []
   },
   "outputs": [
    {
     "data": {
      "text/plain": [
       "(int, str, float)"
      ]
     },
     "execution_count": 20,
     "metadata": {},
     "output_type": "execute_result"
    }
   ],
   "source": [
    "type(ice_cream_rating), type(first_name), type(happiness_rating)"
   ]
  },
  {
   "cell_type": "markdown",
   "id": "cdb5c908-73db-436c-a3c1-ab8bc33aa734",
   "metadata": {
    "tags": []
   },
   "source": [
    "All the data types made sense because ice_cream_rating is a whole integer value, first_name is a string and happiness_rating is a decimal number that is a float"
   ]
  },
  {
   "cell_type": "markdown",
   "id": "4ce5d906-708c-43d0-8d7f-70d324c14e09",
   "metadata": {},
   "source": [
    "Problem 6 - Displaying text on the screen"
   ]
  },
  {
   "cell_type": "code",
   "execution_count": 37,
   "id": "e13f434b-df5a-4562-a762-9d5f6f36a532",
   "metadata": {
    "tags": []
   },
   "outputs": [
    {
     "name": "stdout",
     "output_type": "stream",
     "text": [
      "My name is Roosa and I gave eating ice cream a score of 8 out of 10.\n",
      "I am Roosa Saarinen and my sleeping enjoyment rating is 7 / 10!\n",
      "Based on the factors above, my happiness rating is 7.5 out of 10, or 75.0 %!\n"
     ]
    }
   ],
   "source": [
    "print(\"My name is\", first_name, \"and I gave eating ice cream a score of\", ice_cream_rating, \"out of 10.\")\n",
    "print(\"I am\", my_name, \"and my sleeping enjoyment rating is\", sleeping_rating, \"/ 10!\")\n",
    "print(\"Based on the factors above, my happiness rating is\", happiness_rating, \"out of 10, or\", (happiness_rating)/10*100, \"%!\")"
   ]
  }
 ],
 "metadata": {
  "kernelspec": {
   "display_name": "Python 3 (ipykernel)",
   "language": "python",
   "name": "python3"
  },
  "language_info": {
   "codemirror_mode": {
    "name": "ipython",
    "version": 3
   },
   "file_extension": ".py",
   "mimetype": "text/x-python",
   "name": "python",
   "nbconvert_exporter": "python",
   "pygments_lexer": "ipython3",
   "version": "3.10.12"
  }
 },
 "nbformat": 4,
 "nbformat_minor": 5
}
